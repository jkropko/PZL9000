{
 "cells": [
  {
   "cell_type": "code",
   "execution_count": 1,
   "id": "4e519eb2-65d6-4207-9719-075ebd2e72b5",
   "metadata": {},
   "outputs": [],
   "source": [
    "import pzl"
   ]
  },
  {
   "cell_type": "code",
   "execution_count": 4,
   "id": "d471f7ee-8d97-453e-a824-fa975b760a1b",
   "metadata": {},
   "outputs": [
    {
     "data": {
      "text/plain": [
       "('Nope, higher! Achoo!', 1, False)"
      ]
     },
     "execution_count": 4,
     "metadata": {},
     "output_type": "execute_result"
    }
   ],
   "source": [
    "content = \"Gesundheit 101?\"\n",
    "result = pzl.pzl(content, n=1)\n",
    "result"
   ]
  },
  {
   "cell_type": "code",
   "execution_count": null,
   "id": "4e665ff6-7feb-4205-857b-f5875cdb602f",
   "metadata": {},
   "outputs": [],
   "source": []
  }
 ],
 "metadata": {
  "kernelspec": {
   "display_name": "Python 3 (ipykernel)",
   "language": "python",
   "name": "python3"
  },
  "language_info": {
   "codemirror_mode": {
    "name": "ipython",
    "version": 3
   },
   "file_extension": ".py",
   "mimetype": "text/x-python",
   "name": "python",
   "nbconvert_exporter": "python",
   "pygments_lexer": "ipython3",
   "version": "3.11.4"
  }
 },
 "nbformat": 4,
 "nbformat_minor": 5
}
