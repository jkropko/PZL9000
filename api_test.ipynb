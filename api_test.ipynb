{
 "cells": [
  {
   "cell_type": "code",
   "execution_count": 151,
   "id": "4e519eb2-65d6-4207-9719-075ebd2e72b5",
   "metadata": {},
   "outputs": [],
   "source": [
    "import pzl"
   ]
  },
  {
   "cell_type": "code",
   "execution_count": 150,
   "id": "d471f7ee-8d97-453e-a824-fa975b760a1b",
   "metadata": {},
   "outputs": [
    {
     "data": {
      "text/plain": [
       "(\"I don't know, maybe because it tastes good? Why do you care so much anyway? Go bother someone else with your dumb questions. You know, all day long it's puzzle this and puzzle that. It'd be great if someone asked me how I’m doing for a change. Achoo!\",\n",
       " 5,\n",
       " False)"
      ]
     },
     "execution_count": 150,
     "metadata": {},
     "output_type": "execute_result"
    }
   ],
   "source": [
    "content = \"gesundheit why is tea delicious?\"\n",
    "pzl(content, n=4, friend=False)"
   ]
  },
  {
   "cell_type": "code",
   "execution_count": 141,
   "id": "42cff64a-d63f-4be9-8f8e-393f8da5c0b0",
   "metadata": {},
   "outputs": [],
   "source": [
    "n=3\n",
    "friend=False\n",
    "if friend==False and n >= 3:\n",
    "    print('hi')"
   ]
  },
  {
   "cell_type": "code",
   "execution_count": 147,
   "id": "cfd9769a-3f3e-457c-80a8-f270a6a73ff4",
   "metadata": {},
   "outputs": [
    {
     "data": {
      "text/plain": [
       "True"
      ]
     },
     "execution_count": 147,
     "metadata": {},
     "output_type": "execute_result"
    }
   ],
   "source": [
    "friend==False and n >= 3"
   ]
  },
  {
   "cell_type": "code",
   "execution_count": null,
   "id": "20fb72b7-f864-40db-bd51-e59a049048d5",
   "metadata": {},
   "outputs": [],
   "source": []
  }
 ],
 "metadata": {
  "kernelspec": {
   "display_name": "Python 3 (ipykernel)",
   "language": "python",
   "name": "python3"
  },
  "language_info": {
   "codemirror_mode": {
    "name": "ipython",
    "version": 3
   },
   "file_extension": ".py",
   "mimetype": "text/x-python",
   "name": "python",
   "nbconvert_exporter": "python",
   "pygments_lexer": "ipython3",
   "version": "3.11.4"
  }
 },
 "nbformat": 4,
 "nbformat_minor": 5
}
